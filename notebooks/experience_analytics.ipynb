{
 "cells": [
  {
   "cell_type": "markdown",
   "metadata": {},
   "source": [
    "User Experience Analytics"
   ]
  },
  {
   "cell_type": "code",
   "execution_count": 1,
   "metadata": {},
   "outputs": [],
   "source": [
    "# Importing the neccesary libraries and packages\n",
    "\n",
    "import pandas as pd\n",
    "import numpy as np\n",
    "import seaborn as sns\n",
    "import matplotlib.pyplot as plt\n",
    "import sys\n",
    "sys.path.append(\"..\")\n",
    "from sklearn.preprocessing import StandardScaler\n",
    "from sklearn.cluster import KMeans"
   ]
  },
  {
   "cell_type": "code",
   "execution_count": null,
   "metadata": {},
   "outputs": [],
   "source": [
    "# Read the clean telecom data\n",
    "\n",
    "data = pd.read_csv('../data/clean_telecom_data.csv')\n",
    "primary_data = pd.read_csv('../data/Week1_challenge_data_source.csv')\n",
    "data.columns.tolist()"
   ]
  },
  {
   "cell_type": "code",
   "execution_count": 12,
   "metadata": {},
   "outputs": [
    {
     "data": {
      "text/plain": [
       "Bearer Id                             0\n",
       "Start                                 0\n",
       "Start ms                              0\n",
       "End                                   0\n",
       "End ms                                0\n",
       "Dur. (ms)                             0\n",
       "IMSI                                  0\n",
       "MSISDN/Number                         0\n",
       "IMEI                                  0\n",
       "Last Location Name                    0\n",
       "Avg RTT DL (ms)                       0\n",
       "Avg RTT UL (ms)                       0\n",
       "Avg Bearer TP DL (kbps)               0\n",
       "Avg Bearer TP UL (kbps)               0\n",
       "DL TP < 50 Kbps (%)                   0\n",
       "50 Kbps < DL TP < 250 Kbps (%)        0\n",
       "250 Kbps < DL TP < 1 Mbps (%)         0\n",
       "DL TP > 1 Mbps (%)                    0\n",
       "UL TP < 10 Kbps (%)                   0\n",
       "10 Kbps < UL TP < 50 Kbps (%)         0\n",
       "50 Kbps < UL TP < 300 Kbps (%)        0\n",
       "UL TP > 300 Kbps (%)                  0\n",
       "Activity Duration DL (ms)             0\n",
       "Activity Duration UL (ms)             0\n",
       "Dur. (ms).1                           0\n",
       "Handset Manufacturer                  0\n",
       "Handset Type                          0\n",
       "Nb of sec with Vol DL < 6250B         0\n",
       "Nb of sec with Vol UL < 1250B         0\n",
       "Social Media DL (Bytes)               0\n",
       "Social Media UL (Bytes)               0\n",
       "Google DL (Bytes)                     0\n",
       "Google UL (Bytes)                     0\n",
       "Email DL (Bytes)                      0\n",
       "Email UL (Bytes)                      0\n",
       "Youtube DL (Bytes)                    0\n",
       "Youtube UL (Bytes)                    0\n",
       "Netflix DL (Bytes)                    0\n",
       "Netflix UL (Bytes)                    0\n",
       "Gaming DL (Bytes)                     0\n",
       "Gaming UL (Bytes)                     0\n",
       "Other DL (Bytes)                      0\n",
       "Other UL (Bytes)                      0\n",
       "Total UL (Bytes)                      0\n",
       "Total DL (Bytes)                      0\n",
       "TCP DL Retrans. Vol (Bytes)       87235\n",
       "TCP UL Retrans. Vol (Bytes)       95627\n",
       "Avg_TCP_transmition                   0\n",
       "Avg_RTT                               0\n",
       "Avg_TP                                0\n",
       "dtype: int64"
      ]
     },
     "execution_count": 12,
     "metadata": {},
     "output_type": "execute_result"
    }
   ],
   "source": [
    "# Add the tcp column\n",
    "\n",
    "data['TCP DL Retrans. Vol (Bytes)'] = primary_data['TCP DL Retrans. Vol (Bytes)']\n",
    "data['TCP UL Retrans. Vol (Bytes)'] = primary_data['TCP UL Retrans. Vol (Bytes)']\n",
    "data.isna().sum()"
   ]
  },
  {
   "cell_type": "code",
   "execution_count": null,
   "metadata": {},
   "outputs": [],
   "source": []
  }
 ],
 "metadata": {
  "interpreter": {
   "hash": "b302cdd1e032ee910f5c889c3360c28564c92ad4f326fc3102e39fbe47faee66"
  },
  "kernelspec": {
   "display_name": "Python 3.9.7 ('base')",
   "language": "python",
   "name": "python3"
  },
  "language_info": {
   "codemirror_mode": {
    "name": "ipython",
    "version": 3
   },
   "file_extension": ".py",
   "mimetype": "text/x-python",
   "name": "python",
   "nbconvert_exporter": "python",
   "pygments_lexer": "ipython3",
   "version": "3.9.7"
  },
  "orig_nbformat": 4
 },
 "nbformat": 4,
 "nbformat_minor": 2
}
